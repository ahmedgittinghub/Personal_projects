{
 "cells": [
  {
   "cell_type": "code",
   "execution_count": 1,
   "metadata": {},
   "outputs": [
    {
     "name": "stdout",
     "output_type": "stream",
     "text": [
      "hello world\n"
     ]
    }
   ],
   "source": [
    "print('hello world')"
   ]
  },
  {
   "cell_type": "code",
   "execution_count": 16,
   "metadata": {},
   "outputs": [
    {
     "name": "stdout",
     "output_type": "stream",
     "text": [
      "37.21\n",
      "Harry\n"
     ]
    }
   ],
   "source": [
    "\n",
    "        \n",
    "\n",
    "python_students = [['Harry', 37.21], ['Tina', 37.2], ['Berry', 37.21],['Akriti', 41], ['Harsh', 39]]\n",
    "\n",
    "list_1 = []\n",
    "\n",
    "dict_1 = {'student_name':'','student_score':''}\n",
    "\n",
    "for items in python_students:\n",
    "    dict_1['student_name'] = items[0]\n",
    "    dict_1['student_score'] = items[1]\n",
    "    list_1.append(dict_1)\n",
    "    dict_1 = {'student_name':'','student_score':''}\n",
    "\n",
    "sorted_list = sorted(list_1, key=lambda d: d['student_score'], reverse=True)\n",
    "list_of_scores = []\n",
    "for items in sorted_list:\n",
    "    list_of_scores.append(items['student_score'])\n",
    "\n",
    "second_highest = sorted_list[-2]\n",
    "second_highest_score = sorted_list[-2]['student_score']\n",
    "print(second_highest_score)\n",
    "\n",
    "second_list = []\n",
    "\n",
    "if list_of_scores.count(second_highest_score) > 1:\n",
    "     for items in sorted_list:\n",
    "         if items['student_score'] == second_highest['student_score']:\n",
    "             second_list.append(items['student_name'])\n",
    "        \n",
    "     print(second_list)\n",
    "else:\n",
    "    print (second_highest['student_name'])\n",
    "            \n",
    "\n",
    "\n",
    "\n"
   ]
  },
  {
   "cell_type": "code",
   "execution_count": 31,
   "metadata": {},
   "outputs": [],
   "source": [
    "def second_highest_function(list_1):\n",
    "    dict_1 = {'student_name':'','student_score':''}\n",
    "    student_list = []\n",
    "\n",
    "    for items in list_1:\n",
    "        dict_1['student_name'] = items[0]\n",
    "        dict_1['student_score'] = items[1]\n",
    "        student_list.append(dict_1)\n",
    "        dict_1 = {'student_name':'','student_score':''}\n",
    "\n",
    "    student_list = sorted(student_list, key=lambda d: d['student_score'], reverse=True)\n",
    "\n",
    "    list_of_scores = []\n",
    "    for items in student_list:\n",
    "        list_of_scores.append(items['student_score'])\n",
    "    \n",
    "    second_highest = student_list[-2]\n",
    "    second_highest_score = student_list[-2]['student_score']\n",
    "    second_list = []\n",
    "\n",
    "    if list_of_scores.count(second_highest_score) > 1:\n",
    "     for items in student_list:\n",
    "         if items['student_score'] == second_highest['student_score']:\n",
    "             second_list.append(items['student_name'])\n",
    "\n",
    "     for items in second_list:\n",
    "         print(items)\n",
    "    else:\n",
    "        print(second_highest['student_name'])\n",
    "    \n",
    "    return ' '\n",
    "\n",
    "\n",
    "\n",
    "    \n",
    "    "
   ]
  },
  {
   "cell_type": "code",
   "execution_count": 33,
   "metadata": {},
   "outputs": [],
   "source": [
    "\n",
    "python_students = [['Harry', 37.21], ['Tina', 37.2], ['Berry', 37.21],['Akriti', 41], ['Harsh', 39]]"
   ]
  },
  {
   "cell_type": "code",
   "execution_count": 34,
   "metadata": {},
   "outputs": [
    {
     "name": "stdout",
     "output_type": "stream",
     "text": [
      "Harry\n",
      "Berry\n"
     ]
    },
    {
     "data": {
      "text/plain": [
       "' '"
      ]
     },
     "execution_count": 34,
     "metadata": {},
     "output_type": "execute_result"
    }
   ],
   "source": [
    "second_highest_function(python_students)"
   ]
  },
  {
   "cell_type": "code",
   "execution_count": 36,
   "metadata": {},
   "outputs": [],
   "source": [
    "python_list_2 = [['Harsh', 20.0], ['Beria', 20.0], ['Varun', 19.0], ['Kakunami', 19.0], ['Vikas', 21.0]]"
   ]
  },
  {
   "cell_type": "code",
   "execution_count": 37,
   "metadata": {},
   "outputs": [
    {
     "name": "stdout",
     "output_type": "stream",
     "text": [
      "Varun\n",
      "Kakunami\n"
     ]
    },
    {
     "data": {
      "text/plain": [
       "' '"
      ]
     },
     "execution_count": 37,
     "metadata": {},
     "output_type": "execute_result"
    }
   ],
   "source": [
    "second_highest_function(python_list_2)"
   ]
  },
  {
   "cell_type": "code",
   "execution_count": null,
   "metadata": {},
   "outputs": [],
   "source": []
  }
 ],
 "metadata": {
  "kernelspec": {
   "display_name": "Python 3",
   "language": "python",
   "name": "python3"
  },
  "language_info": {
   "codemirror_mode": {
    "name": "ipython",
    "version": 3
   },
   "file_extension": ".py",
   "mimetype": "text/x-python",
   "name": "python",
   "nbconvert_exporter": "python",
   "pygments_lexer": "ipython3",
   "version": "3.11.9"
  }
 },
 "nbformat": 4,
 "nbformat_minor": 2
}
