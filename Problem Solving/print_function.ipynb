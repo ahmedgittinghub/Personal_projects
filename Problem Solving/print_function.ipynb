{
 "cells": [
  {
   "cell_type": "markdown",
   "metadata": {},
   "source": [
    "The included code stub will read an integer, n, from STDIN.\n",
    "Without using any string methods, try to print the following:\n",
    "\n",
    "123...n\n",
    "Note that \"...\" represents the consecutive values in between.\n",
    "Example \n",
    "\n",
    "Print the string .\n",
    "Input Format\n",
    "The first line contains an integer .\n",
    "\n",
    "Constraints\n",
    "1<n>150\n",
    "Output Format\n",
    "Print the list of integers from  through  as a string, without spaces.\n",
    "Sample Input 0\n",
    "3\n",
    "Sample Output 0\n",
    "123"
   ]
  },
  {
   "cell_type": "code",
   "execution_count": 18,
   "metadata": {},
   "outputs": [],
   "source": [
    "def print_func(x):\n",
    "    x = int(x)\n",
    "    list1 = []\n",
    "    list2 = []\n",
    "    limit = x + 1\n",
    "\n",
    "    if x > 1 and x < 150:\n",
    "        for numbers in range (1,limit):\n",
    "            list1.append(numbers)\n",
    "        for numbers in list1:\n",
    "            list2.append(str(numbers))\n",
    "\n",
    "    result = \"\".join(list2)\n",
    "\n",
    "    return result"
   ]
  },
  {
   "cell_type": "code",
   "execution_count": 19,
   "metadata": {},
   "outputs": [
    {
     "data": {
      "text/plain": [
       "'12345'"
      ]
     },
     "execution_count": 19,
     "metadata": {},
     "output_type": "execute_result"
    }
   ],
   "source": [
    "print_func(5)"
   ]
  },
  {
   "cell_type": "code",
   "execution_count": null,
   "metadata": {},
   "outputs": [],
   "source": []
  }
 ],
 "metadata": {
  "kernelspec": {
   "display_name": "Python 3",
   "language": "python",
   "name": "python3"
  },
  "language_info": {
   "codemirror_mode": {
    "name": "ipython",
    "version": 3
   },
   "file_extension": ".py",
   "mimetype": "text/x-python",
   "name": "python",
   "nbconvert_exporter": "python",
   "pygments_lexer": "ipython3",
   "version": "3.9.6"
  }
 },
 "nbformat": 4,
 "nbformat_minor": 2
}
