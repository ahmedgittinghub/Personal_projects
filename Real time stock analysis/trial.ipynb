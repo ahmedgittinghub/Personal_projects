{
 "cells": [
  {
   "cell_type": "code",
   "execution_count": 1,
   "metadata": {},
   "outputs": [
    {
     "name": "stderr",
     "output_type": "stream",
     "text": [
      "/Users/ahmed/Library/Python/3.9/lib/python/site-packages/urllib3/__init__.py:35: NotOpenSSLWarning: urllib3 v2 only supports OpenSSL 1.1.1+, currently the 'ssl' module is compiled with 'LibreSSL 2.8.3'. See: https://github.com/urllib3/urllib3/issues/3020\n",
      "  warnings.warn(\n"
     ]
    }
   ],
   "source": [
    "from packages1 import *\n",
    "import bs4 as bs\n",
    "import requests\n",
    "import numpy as np\n",
    "import pandas as pd\n",
    "import yfinance as yf\n",
    "yf.pdr_override()\n",
    "from pandas_datareader import data as wb"
   ]
  },
  {
   "cell_type": "code",
   "execution_count": 2,
   "metadata": {},
   "outputs": [],
   "source": [
    "tickers = []"
   ]
  },
  {
   "cell_type": "code",
   "execution_count": 3,
   "metadata": {},
   "outputs": [],
   "source": [
    "tickers = ticker_extractor(tickers)"
   ]
  },
  {
   "cell_type": "code",
   "execution_count": 4,
   "metadata": {},
   "outputs": [],
   "source": [
    "from datetime import datetime, timedelta\n",
    "\n",
    "# setting start date and the end date \n",
    "current_date = datetime.now()\n",
    "end_date = current_date - timedelta(days=1)\n",
    "start_date = current_date - timedelta(days=7)\n",
    "\n",
    "# Format the start date as a string\n",
    "start_date_str = start_date.strftime(\"%Y-%m-%d\")\n",
    "current_date_str = current_date.strftime(\"%Y-%m-%d\")\n",
    "end_date_str = end_date.strftime(\"%Y-%m-%d\")"
   ]
  },
  {
   "cell_type": "code",
   "execution_count": 5,
   "metadata": {},
   "outputs": [
    {
     "name": "stderr",
     "output_type": "stream",
     "text": [
      "[*********************100%%**********************]  503 of 503 completed\n",
      "\n",
      "2 Failed downloads:\n",
      "['BF.B']: Exception('%ticker%: No price data found, symbol may be delisted (1d 2024-03-17 17:26:23.352446 -> 2024-03-24)')\n",
      "['BRK.B']: Exception('%ticker%: No timezone found, symbol may be delisted')\n"
     ]
    }
   ],
   "source": [
    "#  downloading the data \n",
    "data = yf.download(tickers, start=start_date, end=current_date_str)"
   ]
  },
  {
   "cell_type": "code",
   "execution_count": 6,
   "metadata": {},
   "outputs": [],
   "source": [
    "# deleting all failed data \n",
    "data = data.dropna(axis=1)"
   ]
  },
  {
   "cell_type": "code",
   "execution_count": 7,
   "metadata": {},
   "outputs": [],
   "source": [
    "# seperating data so that its easy to interpret \n",
    "adj_close_df = data['Adj Close'].copy()\n",
    "open_df = data['Open'].copy()\n",
    "close_df = data['Close'].copy()\n",
    "high_df = data['High'].copy()\n",
    "low_df = data['Low'].copy()"
   ]
  },
  {
   "cell_type": "code",
   "execution_count": 8,
   "metadata": {},
   "outputs": [],
   "source": [
    "#  Now creting a list of tickers that are available in the data frame\n",
    "tickers = data['Adj Close'].columns.tolist()\n"
   ]
  },
  {
   "cell_type": "code",
   "execution_count": 9,
   "metadata": {},
   "outputs": [],
   "source": [
    "# Now creating a list of dates for the dates available in the data frame\n",
    "dates = close_df.index.tolist()"
   ]
  },
  {
   "cell_type": "code",
   "execution_count": 10,
   "metadata": {},
   "outputs": [],
   "source": [
    "dates2 = []\n",
    "for i in dates:\n",
    "    dates2.append(str(i).replace('Timestamp','').replace('00:00:00','').replace(' ',''))"
   ]
  },
  {
   "cell_type": "code",
   "execution_count": 11,
   "metadata": {},
   "outputs": [
    {
     "data": {
      "text/plain": [
       "['2024-03-18', '2024-03-19', '2024-03-20', '2024-03-21', '2024-03-22']"
      ]
     },
     "execution_count": 11,
     "metadata": {},
     "output_type": "execute_result"
    }
   ],
   "source": [
    "dates2"
   ]
  },
  {
   "cell_type": "code",
   "execution_count": 12,
   "metadata": {},
   "outputs": [],
   "source": [
    "list_of_returns = []\n",
    "list_of_returns = returns_calculator(tickers, dates2, close_df, open_df, list_of_returns)"
   ]
  },
  {
   "cell_type": "code",
   "execution_count": 13,
   "metadata": {},
   "outputs": [],
   "source": [
    "returns_df = pd.DataFrame.from_dict(list_of_returns)"
   ]
  },
  {
   "cell_type": "code",
   "execution_count": 19,
   "metadata": {},
   "outputs": [
    {
     "name": "stdout",
     "output_type": "stream",
     "text": [
      "The following list of stocks is the ones with the best returns:\n",
      "The following list of stocks generated the worst losses:\n"
     ]
    },
    {
     "data": {
      "text/html": [
       "<div>\n",
       "<style scoped>\n",
       "    .dataframe tbody tr th:only-of-type {\n",
       "        vertical-align: middle;\n",
       "    }\n",
       "\n",
       "    .dataframe tbody tr th {\n",
       "        vertical-align: top;\n",
       "    }\n",
       "\n",
       "    .dataframe thead th {\n",
       "        text-align: right;\n",
       "    }\n",
       "</style>\n",
       "<table border=\"1\" class=\"dataframe\">\n",
       "  <thead>\n",
       "    <tr style=\"text-align: right;\">\n",
       "      <th></th>\n",
       "      <th>ticker_name</th>\n",
       "      <th>stock_returns</th>\n",
       "      <th>stock_%returns</th>\n",
       "    </tr>\n",
       "  </thead>\n",
       "  <tbody>\n",
       "    <tr>\n",
       "      <th>474</th>\n",
       "      <td>VTRS</td>\n",
       "      <td>$-0.03</td>\n",
       "      <td>%-0.25</td>\n",
       "    </tr>\n",
       "    <tr>\n",
       "      <th>456</th>\n",
       "      <td>UDR</td>\n",
       "      <td>$-0.03</td>\n",
       "      <td>%-0.08</td>\n",
       "    </tr>\n",
       "    <tr>\n",
       "      <th>488</th>\n",
       "      <td>WRK</td>\n",
       "      <td>$-0.02</td>\n",
       "      <td>%-0.04</td>\n",
       "    </tr>\n",
       "    <tr>\n",
       "      <th>429</th>\n",
       "      <td>TAP</td>\n",
       "      <td>$-0.02</td>\n",
       "      <td>%-0.03</td>\n",
       "    </tr>\n",
       "    <tr>\n",
       "      <th>103</th>\n",
       "      <td>CNP</td>\n",
       "      <td>$-0.01</td>\n",
       "      <td>%-0.04</td>\n",
       "    </tr>\n",
       "  </tbody>\n",
       "</table>\n",
       "</div>"
      ],
      "text/plain": [
       "    ticker_name stock_returns stock_%returns\n",
       "474        VTRS        $-0.03         %-0.25\n",
       "456         UDR        $-0.03         %-0.08\n",
       "488         WRK        $-0.02         %-0.04\n",
       "429         TAP        $-0.02         %-0.03\n",
       "103         CNP        $-0.01         %-0.04"
      ]
     },
     "execution_count": 19,
     "metadata": {},
     "output_type": "execute_result"
    }
   ],
   "source": [
    "print(\"The following list of stocks is the ones with the best returns:\")\n",
    "# creating a data frame of the stocks with the best returns for the past week.\n",
    "returns_df = returns_df.sort_values(by='stock_returns', ascending=False)\n",
    "\n",
    "returns_df.head(5)\n",
    "\n",
    "print(\"The following list of stocks generated the worst losses:\")\n",
    "\n",
    "returns_df.tail(5)\n"
   ]
  },
  {
   "cell_type": "code",
   "execution_count": 15,
   "metadata": {},
   "outputs": [],
   "source": [
    "volatility_of_each_stock = []\n",
    "\n",
    "volatility_of_each_stock = stock_volatility_calculator(volatility_of_each_stock, dates2, tickers, close_df, open_df)"
   ]
  },
  {
   "cell_type": "code",
   "execution_count": 17,
   "metadata": {},
   "outputs": [
    {
     "name": "stdout",
     "output_type": "stream",
     "text": [
      "The following list of stocks is the most volatile stocks:\n"
     ]
    },
    {
     "data": {
      "text/html": [
       "<div>\n",
       "<style scoped>\n",
       "    .dataframe tbody tr th:only-of-type {\n",
       "        vertical-align: middle;\n",
       "    }\n",
       "\n",
       "    .dataframe tbody tr th {\n",
       "        vertical-align: top;\n",
       "    }\n",
       "\n",
       "    .dataframe thead th {\n",
       "        text-align: right;\n",
       "    }\n",
       "</style>\n",
       "<table border=\"1\" class=\"dataframe\">\n",
       "  <thead>\n",
       "    <tr style=\"text-align: right;\">\n",
       "      <th></th>\n",
       "      <th>Stock_Ticker</th>\n",
       "      <th>Stock_Volatility</th>\n",
       "    </tr>\n",
       "  </thead>\n",
       "  <tbody>\n",
       "    <tr>\n",
       "      <th>358</th>\n",
       "      <td>PARA</td>\n",
       "      <td>7.19</td>\n",
       "    </tr>\n",
       "    <tr>\n",
       "      <th>411</th>\n",
       "      <td>SMCI</td>\n",
       "      <td>5.35</td>\n",
       "    </tr>\n",
       "    <tr>\n",
       "      <th>244</th>\n",
       "      <td>IP</td>\n",
       "      <td>4.75</td>\n",
       "    </tr>\n",
       "    <tr>\n",
       "      <th>190</th>\n",
       "      <td>FMC</td>\n",
       "      <td>3.48</td>\n",
       "    </tr>\n",
       "    <tr>\n",
       "      <th>202</th>\n",
       "      <td>GIS</td>\n",
       "      <td>3.06</td>\n",
       "    </tr>\n",
       "  </tbody>\n",
       "</table>\n",
       "</div>"
      ],
      "text/plain": [
       "    Stock_Ticker  Stock_Volatility\n",
       "358         PARA              7.19\n",
       "411         SMCI              5.35\n",
       "244           IP              4.75\n",
       "190          FMC              3.48\n",
       "202          GIS              3.06"
      ]
     },
     "execution_count": 17,
     "metadata": {},
     "output_type": "execute_result"
    }
   ],
   "source": [
    "#  creating a datafram for the volatility\n",
    "\n",
    "\n",
    "volatility_df = pd.DataFrame.from_dict(volatility_of_each_stock)\n",
    "\n",
    "# volatility_df\n",
    "\n",
    "print(\"The following list of stocks is the most volatile stocks:\")\n",
    "\n",
    "volatility_df = volatility_df.sort_values(by='Stock_Volatility', ascending=False)\n",
    "\n",
    "volatility_df.head(5)"
   ]
  },
  {
   "cell_type": "code",
   "execution_count": 20,
   "metadata": {},
   "outputs": [
    {
     "name": "stdout",
     "output_type": "stream",
     "text": [
      "The following analysis is for the s&p 500 stocks from the 2024-03-18 to 2024-03-22\n"
     ]
    }
   ],
   "source": [
    "print(f'The following analysis is for the s&p 500 stocks from  {dates2[0]} to {dates2[4]}')"
   ]
  },
  {
   "cell_type": "code",
   "execution_count": null,
   "metadata": {},
   "outputs": [],
   "source": []
  }
 ],
 "metadata": {
  "kernelspec": {
   "display_name": "Python 3",
   "language": "python",
   "name": "python3"
  },
  "language_info": {
   "codemirror_mode": {
    "name": "ipython",
    "version": 3
   },
   "file_extension": ".py",
   "mimetype": "text/x-python",
   "name": "python",
   "nbconvert_exporter": "python",
   "pygments_lexer": "ipython3",
   "version": "3.9.6"
  }
 },
 "nbformat": 4,
 "nbformat_minor": 2
}
